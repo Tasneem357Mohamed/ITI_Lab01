{
  "nbformat": 4,
  "nbformat_minor": 0,
  "metadata": {
    "colab": {
      "provenance": []
    },
    "kernelspec": {
      "name": "python3",
      "display_name": "Python 3"
    },
    "language_info": {
      "name": "python"
    }
  },
  "cells": [
    {
      "cell_type": "markdown",
      "source": [
        "#Task 1:\n",
        "## Write a program that counts up the number of vowels [a, e, i, o, u] contained in the string."
      ],
      "metadata": {
        "id": "cZauNoOsHxwH"
      }
    },
    {
      "cell_type": "code",
      "execution_count": 1,
      "metadata": {
        "colab": {
          "base_uri": "https://localhost:8080/"
        },
        "id": "CO2cpnQgHb7-",
        "outputId": "8f58db6f-17c8-465b-91f2-d91f3b2e8c16"
      },
      "outputs": [
        {
          "output_type": "stream",
          "name": "stdout",
          "text": [
            "Enter The String Please : Tasneem\n",
            "3\n"
          ]
        }
      ],
      "source": [
        "My_string = input(\"Enter The String Please : \")\n",
        "vowels = \"aeiou\"\n",
        "count = 0\n",
        "for char in My_string:\n",
        "    if char in vowels:\n",
        "        count += 1\n",
        "print(count)"
      ]
    },
    {
      "cell_type": "markdown",
      "source": [
        "#Task 2:\n",
        "## Fill an array of 5 elements from the user , sort it in descending and ascending then display the output"
      ],
      "metadata": {
        "id": "N8o4kDPYINVs"
      }
    },
    {
      "cell_type": "code",
      "source": [
        "i = 0\n",
        "array = []\n",
        "while i < 5:\n",
        "  x = int(input(\"Enter The Number : \"))\n",
        "  array.append(x)\n",
        "  i += 1\n",
        "#for ascending order\n",
        "array.sort()\n",
        "print(array)\n",
        "#for descending order\n",
        "array.sort(reverse=True)\n",
        "print(array)"
      ],
      "metadata": {
        "colab": {
          "base_uri": "https://localhost:8080/"
        },
        "id": "lWbFiZnWISAh",
        "outputId": "101d797a-f5a1-416e-aa77-bbaded3fc78a"
      },
      "execution_count": 2,
      "outputs": [
        {
          "output_type": "stream",
          "name": "stdout",
          "text": [
            "Enter The Number : 1\n",
            "Enter The Number : 5\n",
            "Enter The Number : 3\n",
            "Enter The Number : 7\n",
            "Enter The Number : 2\n",
            "[1, 2, 3, 5, 7]\n",
            "[7, 5, 3, 2, 1]\n"
          ]
        }
      ]
    },
    {
      "cell_type": "markdown",
      "source": [
        "#Task 3:\n",
        "## Write a program that prints the number of times the string 'iti' occurs in anystring."
      ],
      "metadata": {
        "id": "nIQ4eAhEJlE5"
      }
    },
    {
      "cell_type": "code",
      "source": [
        "My_string = input(\"Enter The String Please : \")\n",
        "Find_str = \"iti\"\n",
        "count = 0\n",
        "for i in range(len(My_string)):\n",
        "    if My_string[i:i+3] == Find_str:\n",
        "        count += 1\n",
        "print(count)"
      ],
      "metadata": {
        "colab": {
          "base_uri": "https://localhost:8080/"
        },
        "id": "f8aZCEasJrQk",
        "outputId": "eb8849dd-1904-4d36-e4a3-1a46466d5768"
      },
      "execution_count": 4,
      "outputs": [
        {
          "output_type": "stream",
          "name": "stdout",
          "text": [
            "Enter The String Please : iti summer training\n",
            "1\n"
          ]
        }
      ]
    },
    {
      "cell_type": "markdown",
      "source": [
        "#Task 4:\n",
        "## Write a program that remove all vowels from the input word and generate a brief version of it."
      ],
      "metadata": {
        "id": "_A5znJ5JKThX"
      }
    },
    {
      "cell_type": "code",
      "source": [
        "My_string = input(\"Enter The String Please : \")\n",
        "vowels = \"aeiouAEIOU\"\n",
        "for char in My_string:\n",
        "    if char in vowels:\n",
        "        My_string = My_string.replace(char, \"\")\n",
        "print(My_string)"
      ],
      "metadata": {
        "colab": {
          "base_uri": "https://localhost:8080/"
        },
        "id": "rRIf1MjzKXjp",
        "outputId": "474277f7-bc98-4be6-9fb5-495f512fe0da"
      },
      "execution_count": 14,
      "outputs": [
        {
          "output_type": "stream",
          "name": "stdout",
          "text": [
            "Enter The String Please : Tasneem\n",
            "Tsnm\n"
          ]
        }
      ]
    },
    {
      "cell_type": "markdown",
      "source": [
        "#Task 5:\n",
        "## Write a program that prints the locations of \"i\" character in any string you added."
      ],
      "metadata": {
        "id": "2s771CB7K_aM"
      }
    },
    {
      "cell_type": "code",
      "source": [
        "My_string = input(\"Enter The String Please : \")\n",
        "for i in range(len(My_string)):\n",
        "    if My_string[i] == \"i\":\n",
        "        print(i)"
      ],
      "metadata": {
        "colab": {
          "base_uri": "https://localhost:8080/"
        },
        "id": "lL6S2fnoLDIz",
        "outputId": "093552e6-7a92-4677-e35e-9b42195a1e33"
      },
      "execution_count": 6,
      "outputs": [
        {
          "output_type": "stream",
          "name": "stdout",
          "text": [
            "Enter The String Please : The Python is programming language\n",
            "11\n",
            "22\n"
          ]
        }
      ]
    },
    {
      "cell_type": "markdown",
      "source": [
        "#Task 6:\n",
        "## Write a program that generate a multiplication table from 1 to the number passed\n"
      ],
      "metadata": {
        "id": "Af4QCHbsLWc6"
      }
    },
    {
      "cell_type": "code",
      "source": [
        "x = int(input(\"Enter The Number : \"))\n",
        "table = list()\n",
        "mylist = list()\n",
        "for i in range(1 , x+1):\n",
        "  for j in range(1 , (i + 1)):\n",
        "    mylist.append(i*j)\n",
        "  table.append(mylist)\n",
        "  mylist = list()\n",
        "print(table)\n",
        "\n"
      ],
      "metadata": {
        "colab": {
          "base_uri": "https://localhost:8080/"
        },
        "id": "mJdkiLvLLnDp",
        "outputId": "6ed7a057-4efa-482c-c8db-5e0dc212bc08"
      },
      "execution_count": 10,
      "outputs": [
        {
          "output_type": "stream",
          "name": "stdout",
          "text": [
            "Enter The Number : 3\n",
            "[[1], [2, 4], [3, 6, 9]]\n"
          ]
        }
      ]
    },
    {
      "cell_type": "markdown",
      "source": [
        "#Task 7:\n",
        "## Write a program that build a Mario pyramid like below:\n",
        "       *   \n",
        "      **\n",
        "     ***\n",
        "    ****"
      ],
      "metadata": {
        "id": "FKybMKTsMQDd"
      }
    },
    {
      "cell_type": "code",
      "source": [
        "x = int(input(\"Enter The Number : \"))\n",
        "for i in range(1 , x+1):\n",
        "  print(\" \"*(x-i) + \"*\"*i)"
      ],
      "metadata": {
        "colab": {
          "base_uri": "https://localhost:8080/"
        },
        "id": "N0W-kus2MzCF",
        "outputId": "0334f498-785f-4514-e1dd-930c9e25b199"
      },
      "execution_count": 11,
      "outputs": [
        {
          "output_type": "stream",
          "name": "stdout",
          "text": [
            "Enter The Number : 4\n",
            "   *\n",
            "  **\n",
            " ***\n",
            "****\n"
          ]
        }
      ]
    }
  ]
}